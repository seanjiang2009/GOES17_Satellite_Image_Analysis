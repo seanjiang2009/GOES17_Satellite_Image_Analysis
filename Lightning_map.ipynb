{
  "cells": [
    {
      "cell_type": "code",
      "execution_count": 37,
      "metadata": {
        "collapsed": false
      },
      "outputs": [],
      "source": [
        "import cartopy.crs as ccrs\n",
        "import matplotlib.pyplot as plt\n",
        "import matplotlib\n",
        "import numpy as np\n",
        "import xarray as xr\n",
        "import requests\n",
        "import netCDF4\n",
        "import boto3\n",
        "import boto3\n",
        "from botocore import UNSIGNED\n",
        "from botocore.config import Config\n",
        "import os\n",
        "from tqdm import tqdm\n",
        "\n",
        "\n",
        "%matplotlib inline\n"
      ]
    },
    {
      "cell_type": "code",
      "execution_count": 38,
      "metadata": {},
      "outputs": [],
      "source": [
        "bucket_name = 'noaa-goes17'\n",
        "product_name = 'GLM-L2-LCFA'\n",
        "year = 2020\n",
        "day_of_year = 229\n",
        "hour = 1\n",
        "#band = 8\n",
        "\n",
        "s3_client = boto3.client('s3', config=Config(signature_version=UNSIGNED))\n",
        "def get_s3_keys(bucket, s3_client, prefix = ''):\n",
        "    \"\"\"\n",
        "    Generate the keys in an S3 bucket.\n",
        "\n",
        "    :param bucket: Name of the S3 bucket.\n",
        "    :param prefix: Only fetch keys that start with this prefix (optional).\n",
        "    \"\"\"\n",
        "    \n",
        "    kwargs = {'Bucket': bucket}\n",
        "\n",
        "    if isinstance(prefix, str):\n",
        "        kwargs['Prefix'] = prefix\n",
        "\n",
        "    while True:\n",
        "        resp = s3_client.list_objects_v2(**kwargs)\n",
        "        for obj in resp['Contents']:\n",
        "            key = obj['Key']\n",
        "            if key.startswith(prefix):\n",
        "                yield key\n",
        "\n",
        "        try:\n",
        "            kwargs['ContinuationToken'] = resp['NextContinuationToken']\n",
        "        except KeyError:\n",
        "            break\n",
        "\n"
      ]
    },
    {
      "cell_type": "code",
      "execution_count": 39,
      "metadata": {},
      "outputs": [],
      "source": [
        "def load_file_names(selection_string = \"\", selection_string2 = \"\", avoid_string = \"\",folder_list = []):\n",
        "    for area_name in folder_list:\n",
        "        selection_string = selection_string\n",
        "        selection_string2 = selection_string2\n",
        "        avoid_string = avoid_string\n",
        "        filenamelist = []\n",
        "        #area_name = \"./Area-4\"\n",
        "        for root, dirs, files in os.walk(area_name, topdown=False):\n",
        "            for name in files:\n",
        "                #print(os.path.join(root, name))\n",
        "                temp_name = os.path.join(root, name)\n",
        "                if os.path.isfile(temp_name) and (selection_string in temp_name) and (selection_string2 in temp_name) and (avoid_string not in temp_name) :\n",
        "                    filenamelist.append(os.path.join(root, name))\n",
        "    filenamelist.sort()\n",
        "    return filenamelist\n",
        "\n",
        "def play_np_array(data, min=0, max=1, cmap = \"jet\"):\n",
        "    matplotlib.rcParams['animation.embed_limit'] = 2**128\n",
        "    \n",
        "    fig, axs = plt.subplots()\n",
        "    fig.set_figheight(15)\n",
        "    fig.set_figwidth(15)\n",
        "    im0 = axs.imshow(data[0], vmin = min, vmax =max, cmap = cmap )\n",
        "\n",
        "    def init():\n",
        "        im0.set_data(data[0])\n",
        "\n",
        "    def animate(i):\n",
        "        im0.set_data(data[i])\n",
        "\n",
        "        return im0\n",
        "\n",
        "    anim = animation.FuncAnimation(fig, animate, init_func=init, frames=data.shape[0], repeat = True)\n",
        "    return HTML(anim.to_jshtml())"
      ]
    },
    {
      "cell_type": "code",
      "execution_count": 40,
      "metadata": {},
      "outputs": [
        {
          "name": "stderr",
          "output_type": "stream",
          "text": [
            "100%|██████████| 12/12 [00:00<00:00, 4936.41it/s]\n"
          ]
        }
      ],
      "source": [
        "# This step  will take a long time\n",
        "\n",
        "for day_of_year in tqdm(range(248,260)):\n",
        "    for hour in range(24):\n",
        "        bucket_name = 'noaa-goes17'\n",
        "        product_name = 'GLM-L2-LCFA'\n",
        "        year = 2020\n",
        "        #day_of_year = 239\n",
        "        #hour = 1\n",
        "        #band = 8\n",
        "\n",
        "\n",
        "        prefix = f'{product_name}/{year}/{day_of_year:03.0f}/{hour:02.0f}/OR_{product_name}'\n",
        "        output_file_name = \"lightning_map/\"+prefix.replace(\"/\",\"_\")+\".npy\"\n",
        "        if os.path.exists(output_file_name):\n",
        "            continue\n",
        "        else:\n",
        "            keys = get_s3_keys(bucket_name,\n",
        "                        s3_client,\n",
        "                        prefix = prefix,\n",
        "                        )\n",
        "            #print(prefix)\n",
        "            #print(day_of_year)\n",
        "\n",
        "            all_events = []\n",
        "            for key in keys:\n",
        "                #print(key)\n",
        "                resp = requests.get(f'https://{bucket_name}.s3.amazonaws.com/{key}')\n",
        "\n",
        "                file_name = key.split('/')[-1].split('.')[0]\n",
        "                nc4_ds = netCDF4.Dataset(file_name, memory = resp.content)\n",
        "                store = xr.backends.NetCDF4DataStore(nc4_ds)\n",
        "                DS = xr.open_dataset(store)\n",
        "                C = DS\n",
        "                all_events.append(DS)\n",
        "\n",
        "                x_values = y_values = v_values = np.empty(0)\n",
        "                for DS in all_events:\n",
        "                    x_values = np.append(x_values, DS.event_lon.values)\n",
        "                    y_values = np.append(y_values, DS.event_lat.values)\n",
        "                    v_values = np.append(v_values, DS.event_energy.values)\n",
        "            np.save(output_file_name, np.array([x_values, y_values, v_values]))\n"
      ]
    },
    {
      "cell_type": "code",
      "execution_count": 41,
      "metadata": {},
      "outputs": [],
      "source": [
        "filenamelist = load_file_names(\"GLM-L2-LCFA\",\".npy\",\"xxx\",[\".\"])"
      ]
    },
    {
      "cell_type": "code",
      "execution_count": 42,
      "metadata": {},
      "outputs": [
        {
          "data": {
            "text/plain": [
              "['./lightening_map/GLM-L2-LCFA_2020_248_00_OR_GLM-L2-LCFA.npy',\n",
              " './lightening_map/GLM-L2-LCFA_2020_248_01_OR_GLM-L2-LCFA.npy',\n",
              " './lightening_map/GLM-L2-LCFA_2020_248_02_OR_GLM-L2-LCFA.npy',\n",
              " './lightening_map/GLM-L2-LCFA_2020_248_03_OR_GLM-L2-LCFA.npy',\n",
              " './lightening_map/GLM-L2-LCFA_2020_248_04_OR_GLM-L2-LCFA.npy',\n",
              " './lightening_map/GLM-L2-LCFA_2020_248_05_OR_GLM-L2-LCFA.npy',\n",
              " './lightening_map/GLM-L2-LCFA_2020_248_06_OR_GLM-L2-LCFA.npy',\n",
              " './lightening_map/GLM-L2-LCFA_2020_248_07_OR_GLM-L2-LCFA.npy',\n",
              " './lightening_map/GLM-L2-LCFA_2020_248_08_OR_GLM-L2-LCFA.npy',\n",
              " './lightening_map/GLM-L2-LCFA_2020_248_09_OR_GLM-L2-LCFA.npy']"
            ]
          },
          "execution_count": 42,
          "metadata": {},
          "output_type": "execute_result"
        }
      ],
      "source": [
        "filenamelist[:10]"
      ]
    },
    {
      "cell_type": "code",
      "execution_count": 45,
      "metadata": {},
      "outputs": [],
      "source": [
        "import matplotlib.animation as animation\n",
        "import matplotlib.cm as cm\n",
        "from IPython.display import HTML\n",
        "import matplotlib\n",
        "\n",
        "import cv2\n",
        "\n",
        "import cartopy.io.shapereader as shpreader\n",
        "import cartopy.feature as cfeature\n",
        "\n",
        "reader = shpreader.Reader('countyl010g_shp/countyl010g.shp')\n",
        "\n",
        "counties = list(reader.geometries())\n",
        "\n",
        "COUNTIES = cfeature.ShapelyFeature(counties, ccrs.PlateCarree())\n",
        "\n",
        "img = [] # some array of images\n",
        "frames = [] # for storing the generated images\n",
        "\n",
        "for i,filename in enumerate(filenamelist):\n",
        "  data = np.load(filename)\n",
        "  x_values, y_values, v_values = data[0], data[1], data[2]\n",
        "  mask = (x_values>-160) & (x_values<-80) & (y_values>0) & (v_values > 0)\n",
        "\n",
        "  fig = plt.figure(figsize=(15, 12))\n",
        "  pc = ccrs.PlateCarree()\n",
        "\n",
        "\n",
        "  # Create axis with Geostationary projection\n",
        "  ax = fig.add_subplot(1, 1, 1, projection=pc)\n",
        "  ax.set_extent([-130,-110,30,50], crs=pc)\n",
        "\n",
        "  # Add the RGB image to the figure. The data is in the same projection as the\n",
        "  # axis we just created.\n",
        "  #ax.imshow(DS.event_energy.values, origin='upper',\n",
        "    #        extent=(xx.min(), xx.max(), yy.min(), yy.max()), transform=geos)\n",
        "  plt.hist2d(x_values[mask], y_values[mask], bins = (100, 100), range = ([-130,-110],[30,50]),cmap=plt.cm.jet, cmin = 1, cmax=10)\n",
        "\n",
        "\n",
        "  # Add Coastlines and States\n",
        "  ax.coastlines(resolution='50m', color='black', linewidth=0.25)\n",
        "  ax.add_feature(ccrs.cartopy.feature.STATES, linewidth=0.25)\n",
        "  ax.add_feature(COUNTIES, facecolor='none', edgecolor='gray',linewidth=0.2)\n",
        "\n",
        "  plt.xlim = ([-160,-80])\n",
        "\n",
        "  plt.title('GOES-17 GLM (Lightning)', loc='left', fontweight='bold', fontsize=15)\n",
        "  #plt.title('{}'.format(scan_start.strftime('%d %B %Y %H:%M UTC ')), loc='right')\n",
        "  plt.title('{}'.format(filename), loc='right')\n",
        "  plt.savefig(\"lightning_images/image\"+str(i)+\".jpg\")\n",
        "  plt.close()\n",
        "  frames.append(cv2.imread(\"lightning_images/image\"+str(i)+\".jpg\"))\n",
        "\n",
        "np.save(\"lightning_images/all_frames.npy\", frames)"
      ]
    },
    {
      "cell_type": "code",
      "execution_count": null,
      "metadata": {},
      "outputs": [],
      "source": [
        "play_np_array(np.array(frames))"
      ]
    },
    {
      "cell_type": "code",
      "execution_count": null,
      "metadata": {},
      "outputs": [],
      "source": []
    }
  ],
  "metadata": {
    "kernelspec": {
      "display_name": "Python 3",
      "language": "python",
      "name": "python3"
    },
    "language_info": {
      "codemirror_mode": {
        "name": "ipython",
        "version": 3
      },
      "file_extension": ".py",
      "mimetype": "text/x-python",
      "name": "python",
      "nbconvert_exporter": "python",
      "pygments_lexer": "ipython3",
      "version": "3.11.9"
    }
  },
  "nbformat": 4,
  "nbformat_minor": 0
}
